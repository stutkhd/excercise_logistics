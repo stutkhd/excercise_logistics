{
  "nbformat": 4,
  "nbformat_minor": 0,
  "metadata": {
    "kernelspec": {
      "display_name": "Python 3",
      "language": "python",
      "name": "python3"
    },
    "language_info": {
      "codemirror_mode": {
        "name": "ipython",
        "version": 3
      },
      "file_extension": ".py",
      "mimetype": "text/x-python",
      "name": "python",
      "nbconvert_exporter": "python",
      "pygments_lexer": "ipython3",
      "version": "3.6.8"
    },
    "colab": {
      "name": "GRAPS.ipynb",
      "provenance": [],
      "collapsed_sections": [],
      "include_colab_link": true
    }
  },
  "cells": [
    {
      "cell_type": "markdown",
      "metadata": {
        "id": "view-in-github",
        "colab_type": "text"
      },
      "source": [
        "<a href=\"https://colab.research.google.com/github/stutkhd/excercise_logistics/blob/master/GRAPS.ipynb\" target=\"_parent\"><img src=\"https://colab.research.google.com/assets/colab-badge.svg\" alt=\"Open In Colab\"/></a>"
      ]
    },
    {
      "cell_type": "markdown",
      "metadata": {
        "id": "rU3CvdmDKe0y",
        "colab_type": "text"
      },
      "source": [
        "# 第8, 9, 10回. コンペティション用プログラム作成\n",
        "\n",
        "## 1. 都市集合C"
      ]
    },
    {
      "cell_type": "markdown",
      "metadata": {
        "id": "LD32EeDdKe1A",
        "colab_type": "text"
      },
      "source": [
        "### 1.2 ランダムなデータを使う場合"
      ]
    },
    {
      "cell_type": "code",
      "metadata": {
        "id": "G-PtKx9dKe1B",
        "colab_type": "code",
        "colab": {}
      },
      "source": [
        "def strnum_to_num(t):\n",
        "    num=t.split(\"e+\")\n",
        "    r=float(num[0])\n",
        "    if len(num)==2:\n",
        "        r *= 10**int(num[1])\n",
        "    return r\n",
        "\n",
        "def read_tsp_file(instance):\n",
        "    if instance[:4]==\"http\":\n",
        "        import urllib.request\n",
        "        with urllib.request.urlopen(instance) as f:\n",
        "            with open('tmp.txt', 'w') as g:\n",
        "                print(f.read().decode(), file=g)\n",
        "                instance=\"tmp.txt\"\n",
        "        \n",
        "    with open(instance,\"r\") as f:\n",
        "        for i in range(6):\n",
        "            line=f.readline().rstrip(\"\\n\")        \n",
        "        C={}\n",
        "        for line in f.readlines():\n",
        "            node=line.rstrip(\"\\n\").split()\n",
        "            name=node[0]            \n",
        "            if name == \"EOF\":\n",
        "                break\n",
        "            if node[0]=='NODE_COORD_SECTION':\n",
        "                continue\n",
        "            x,y=strnum_to_num(node[1]),strnum_to_num(node[2])\n",
        "            C[name]=(x,y)\n",
        "        return C\n",
        "    \n",
        "instance=\"http://elib.zib.de/pub/mp-testdata/tsp/tsplib/tsp/ch130.tsp\"\n",
        "D=read_tsp_file(instance)"
      ],
      "execution_count": 71,
      "outputs": []
    },
    {
      "cell_type": "code",
      "metadata": {
        "id": "1Y25BYGTssSA",
        "colab_type": "code",
        "colab": {}
      },
      "source": [
        "C = {}\n",
        "for k, v in D.items():\n",
        "    C[int(k)-1] = v"
      ],
      "execution_count": 72,
      "outputs": []
    },
    {
      "cell_type": "markdown",
      "metadata": {
        "id": "_uAY-KuOKe1G",
        "colab_type": "text"
      },
      "source": [
        "## 2. distanceとgraph_of_tourの定義"
      ]
    },
    {
      "cell_type": "code",
      "metadata": {
        "id": "7DPPqgcEKe1H",
        "colab_type": "code",
        "colab": {}
      },
      "source": [
        "def distance(pa,pb):\n",
        "    return ((pa[0]-pb[0])**2 + (pa[1]-pb[1])**2)**0.5\n",
        "\n",
        "import networkx as nx\n",
        "\n",
        "def graph_of_tour(tour):\n",
        "    Gt=nx.Graph()\n",
        "\n",
        "    for i in range(len(tour)):\n",
        "        ci=tour[i]\n",
        "        if i == len(tour)-1:\n",
        "            cj=tour[0]\n",
        "        else:\n",
        "            cj=tour[i+1]        \n",
        "        Gt.add_edge(ci,cj,weight=distance(C[ci],C[cj]))\n",
        "    return Gt"
      ],
      "execution_count": 78,
      "outputs": []
    },
    {
      "cell_type": "markdown",
      "metadata": {
        "id": "xBwuR-8wKe1T",
        "colab_type": "text"
      },
      "source": [
        "## 3. アルゴリズム\n",
        "\n",
        "提出してもらったみなさんのプログラムはtsp_solveから実行します．制限時間で止まるようしておいてください．"
      ]
    },
    {
      "cell_type": "code",
      "metadata": {
        "id": "RL4QoeR2Ke1U",
        "colab_type": "code",
        "colab": {}
      },
      "source": [
        "import time\n",
        "\n",
        "# start = random.randint(0,n)\n",
        "\n",
        "def decide_u(v, visited, G):\n",
        "    max = 10**8\n",
        "    d = []\n",
        "    for u in G[v]:\n",
        "        if u not in visited:\n",
        "            d.append(G[v][u][\"weight\"])\n",
        "        else:\n",
        "            d.append(max)\n",
        "    # index合わせるために現在いる都市にマックスを追加\n",
        "    d.insert(v, max)\n",
        "    sort_d = sorted(d)[:3]\n",
        "    choice = sort_d[random.randint(0,2)]\n",
        "    u = d.index(choice)\n",
        "    return u\n",
        "\n",
        "def random_neighbor(G):\n",
        "    start = 0\n",
        "    tour = [start]\n",
        "    visited = {start:True}\n",
        "    while len(tour) < len(C):\n",
        "        v = tour[-1]\n",
        "        random_min_u = decide_u(v, visited, G)\n",
        "        if random_min_u not in visited:\n",
        "            visited[random_min_u] = True\n",
        "            tour.append(random_min_u)\n",
        "    return tour\n",
        "\n",
        "def better_solution(sol):\n",
        "    n = len(sol) #都市の数\n",
        "    # print(sol)\n",
        "    #反転させる\n",
        "    for i in range(n):\n",
        "        for length in range(2, n):\n",
        "            #一番最後はいらないので削除\n",
        "            if i+length-1 > n-1:\n",
        "                break\n",
        "            path = sol[i:i+length] #reverseしたいpath\n",
        "            diff = -distance(C[sol[i-1]], C[sol[i]]) - distance(C[sol[i+length-1]], C[sol[(i+length)%n]])+distance(C[sol[i-1]], C[sol[i+length-1]])+ distance(C[sol[i]], C[sol[(i+length)%n]])\n",
        "            if diff < -0.0000001: #数値誤差の関係で0ではない\n",
        "                path.reverse()\n",
        "                bsol = sol[:i] + path + sol[i+length:]\n",
        "                return bsol\n",
        "    return None\n",
        "\n",
        "def local_search(init_sol):\n",
        "    sol = init_sol #現在の解を表す\n",
        "    #近傍を見て改善解があれば改善する\n",
        "    while True:\n",
        "        bsol = better_solution(sol) #改善する\n",
        "        if bsol == None:\n",
        "            return sol\n",
        "        else:\n",
        "            sol = bsol\n",
        "\n",
        "    return None\n",
        "\n",
        "def tsp_solve(C,timelimit=500):\n",
        "    ''' TSPを解くためのプログラム\n",
        "    input: 都市集合C, 制限時間timelimit(秒)\n",
        "    output: 巡回路\n",
        "    '''\n",
        "    pre_tour = [int(i) for i in C]\n",
        "\n",
        "    #全結合のグラフ\n",
        "    G = nx.Graph()\n",
        "    for v in C:\n",
        "        G.add_node(v)\n",
        "    for i, ci in enumerate(new_C):\n",
        "        for j, cj in enumerate(new_C):\n",
        "            if i < j:\n",
        "                G.add_edge(ci,cj, weight=distance(C[ci], C[cj]))\n",
        "\n",
        "    min_tour_size = graph_of_tour(pretour).size(weight=\"weight\")\n",
        "    ans_tour = pretour\n",
        "    starttime=time.time()\n",
        "    while time.time() - starttime < timelimit:\n",
        "        tour = random_neighbor(G)\n",
        "        ans_tour = local_search(tour)\n",
        "        if graph_of_tour(ans_tour).size(weight=\"weight\") < min_tour_size:\n",
        "            min_tour_size = graph_of_tour(ans_tour).size(weight=\"weight\")\n",
        "            print(\"min_tour_size:,\",min_tour_size, ans_tour)\n",
        "    return ans_tour\n",
        "\n",
        "tour=tsp_solve(C,100)"
      ],
      "execution_count": 77,
      "outputs": []
    },
    {
      "cell_type": "markdown",
      "metadata": {
        "id": "qANt4FPuKe1a",
        "colab_type": "text"
      },
      "source": [
        "## 4. 解tourの描画と実行可能性"
      ]
    },
    {
      "cell_type": "code",
      "metadata": {
        "id": "hIYHco-1Ke1b",
        "colab_type": "code",
        "colab": {
          "base_uri": "https://localhost:8080/",
          "height": 51
        },
        "outputId": "b3460438-ff61-4c41-c39b-84917dbd58aa"
      },
      "source": [
        "Gt=graph_of_tour(tour)\n",
        "print('size of tour:', Gt.size(weight='weight'))\n",
        "print('feasibility:',nx.is_k_edge_connected(Gt,2))\n",
        "\n",
        "import matplotlib.pyplot as plt\n",
        "# plt.figure(figsize=(12,12))\n",
        "# nx.draw_networkx(Gt,pos=C,node_color=\"yellow\",node_size=200,with_labels=True,edge_color=\"k\",width=1,axis=\"equal\")\n",
        "# plt.show() "
      ],
      "execution_count": 80,
      "outputs": [
        {
          "output_type": "stream",
          "text": [
            "size of tour: 6619.06456267657\n",
            "feasibility: True\n"
          ],
          "name": "stdout"
        }
      ]
    },
    {
      "cell_type": "code",
      "metadata": {
        "id": "IsIZuxikvQhK",
        "colab_type": "code",
        "colab": {}
      },
      "source": [
        ""
      ],
      "execution_count": null,
      "outputs": []
    }
  ]
}