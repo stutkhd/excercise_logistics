{
  "nbformat": 4,
  "nbformat_minor": 0,
  "metadata": {
    "kernelspec": {
      "display_name": "Python 3",
      "language": "python",
      "name": "python3"
    },
    "language_info": {
      "codemirror_mode": {
        "name": "ipython",
        "version": 3
      },
      "file_extension": ".py",
      "mimetype": "text/x-python",
      "name": "python",
      "nbconvert_exporter": "python",
      "pygments_lexer": "ipython3",
      "version": "3.6.8"
    },
    "colab": {
      "name": "Nearest_neighbor_algorithm.ipynb ",
      "provenance": [],
      "collapsed_sections": [],
      "include_colab_link": true
    }
  },
  "cells": [
    {
      "cell_type": "markdown",
      "metadata": {
        "id": "view-in-github",
        "colab_type": "text"
      },
      "source": [
        "<a href=\"https://colab.research.google.com/github/stutkhd/excercise_logistics/blob/master/Nearest_neighbor_algorithm.ipynb\" target=\"_parent\"><img src=\"https://colab.research.google.com/assets/colab-badge.svg\" alt=\"Open In Colab\"/></a>"
      ]
    },
    {
      "cell_type": "markdown",
      "metadata": {
        "id": "kljvzUp1ydjl",
        "colab_type": "text"
      },
      "source": [
        "# Nearest neighbor algorithm"
      ]
    },
    {
      "cell_type": "markdown",
      "metadata": {
        "id": "OOR4G-EczOxD",
        "colab_type": "text"
      },
      "source": [
        ""
      ]
    },
    {
      "cell_type": "markdown",
      "metadata": {
        "id": "jZNswhERzKRo",
        "colab_type": "text"
      },
      "source": [
        "### Nearest neighbor algorithmとは\n",
        "---"
      ]
    },
    {
      "cell_type": "markdown",
      "metadata": {
        "id": "XvW1je4KyOgB",
        "colab_type": "text"
      },
      "source": [
        "# 第8, 9, 10回. コンペティション用プログラム作成\n",
        "\n",
        "## 1. 都市集合C\n",
        "### 1.1 ベンチマーク問題例TSPLIBを使う場合"
      ]
    },
    {
      "cell_type": "code",
      "metadata": {
        "scrolled": true,
        "id": "6RxAdwvByOgC",
        "colab_type": "code",
        "colab": {}
      },
      "source": [
        "def strnum_to_num(t):\n",
        "    num=t.split(\"e+\")\n",
        "    r=float(num[0])\n",
        "    if len(num)==2:\n",
        "        r *= 10**int(num[1])\n",
        "    return r\n",
        "\n",
        "def read_tsp_file(instance):\n",
        "    if instance[:4]==\"http\":\n",
        "        import urllib.request\n",
        "        with urllib.request.urlopen(instance) as f:\n",
        "            with open('tmp.txt', 'w') as g:\n",
        "                print(f.read().decode(), file=g)\n",
        "                instance=\"tmp.txt\"\n",
        "        \n",
        "    with open(instance,\"r\") as f:\n",
        "        for i in range(6):\n",
        "            line=f.readline().rstrip(\"\\n\")        \n",
        "        C={}\n",
        "        for line in f.readlines():\n",
        "            node=line.rstrip(\"\\n\").split()\n",
        "            name=node[0]            \n",
        "            if name == \"EOF\":\n",
        "                break\n",
        "            if node[0]=='NODE_COORD_SECTION':\n",
        "                continue\n",
        "            x,y=strnum_to_num(node[1]),strnum_to_num(node[2])\n",
        "            C[name]=(x,y)\n",
        "        return C\n",
        "    \n",
        "instance=\"http://elib.zib.de/pub/mp-testdata/tsp/tsplib/tsp/ch130.tsp\"\n",
        "C=read_tsp_file(instance)"
      ],
      "execution_count": 1,
      "outputs": []
    },
    {
      "cell_type": "markdown",
      "metadata": {
        "id": "S9S-s7q-yOgG",
        "colab_type": "text"
      },
      "source": [
        "### 1.2 ランダムなデータを使う場合"
      ]
    },
    {
      "cell_type": "code",
      "metadata": {
        "id": "W425cPyAyOgG",
        "colab_type": "code",
        "colab": {}
      },
      "source": [
        "C={}\n",
        "n=10\n",
        "R=10000\n",
        "\n",
        "import random\n",
        "for i in range(n):\n",
        "    x=random.randint(0,R)\n",
        "    y=random.randint(0,R)\n",
        "    C[i]=(x,y)"
      ],
      "execution_count": 15,
      "outputs": []
    },
    {
      "cell_type": "code",
      "metadata": {
        "id": "FheBbb0C9iFF",
        "colab_type": "code",
        "colab": {
          "base_uri": "https://localhost:8080/",
          "height": 187
        },
        "outputId": "1655cc73-1a18-4d4f-972c-362795fffa58"
      },
      "source": [
        "C"
      ],
      "execution_count": 16,
      "outputs": [
        {
          "output_type": "execute_result",
          "data": {
            "text/plain": [
              "{0: (1333, 3179),\n",
              " 1: (1318, 7535),\n",
              " 2: (7625, 9495),\n",
              " 3: (7016, 9684),\n",
              " 4: (1733, 9545),\n",
              " 5: (5962, 6042),\n",
              " 6: (6253, 5705),\n",
              " 7: (1124, 9116),\n",
              " 8: (7869, 3951),\n",
              " 9: (9347, 6891)}"
            ]
          },
          "metadata": {
            "tags": []
          },
          "execution_count": 16
        }
      ]
    },
    {
      "cell_type": "markdown",
      "metadata": {
        "id": "kopVgiPdyOgJ",
        "colab_type": "text"
      },
      "source": [
        "## 2. distanceとgraph_of_tourの定義"
      ]
    },
    {
      "cell_type": "code",
      "metadata": {
        "id": "m7aWKWKFyOgJ",
        "colab_type": "code",
        "colab": {}
      },
      "source": [
        "def distance(pa,pb):\n",
        "    return ((pa[0]-pb[0])**2 + (pa[1]-pb[1])**2)**0.5\n",
        "\n",
        "import networkx as nx\n",
        "\n",
        "def graph_of_tour(tour):\n",
        "    Gt=nx.Graph()\n",
        "\n",
        "    for i in range(len(tour)):\n",
        "        ci=tour[i]\n",
        "        if i == len(tour)-1:\n",
        "            cj=tour[0]\n",
        "        else:\n",
        "            cj=tour[i+1]        \n",
        "        Gt.add_edge(ci,cj,weight=distance(C[ci],C[cj]))\n",
        "    return Gt"
      ],
      "execution_count": 3,
      "outputs": []
    },
    {
      "cell_type": "markdown",
      "metadata": {
        "id": "CV1EfolFyOgM",
        "colab_type": "text"
      },
      "source": [
        "## 3. アルゴリズム\n",
        "\n",
        "提出してもらったみなさんのプログラムはtsp_solveから実行します．制限時間で止まるようしておいてください．"
      ]
    },
    {
      "cell_type": "code",
      "metadata": {
        "id": "mxg68QwPyOgM",
        "colab_type": "code",
        "colab": {}
      },
      "source": [
        "import time\n",
        "\n",
        "def NN(C, G):\n",
        "    #一度行った場所にはいかないようにする\n",
        "    tour = [0]\n",
        "    visited = {0:True}\n",
        "    #tourが都市の数と等しくなるまで近いところを行くようにする\n",
        "    while len(tour) < len(C):\n",
        "        min_d, min_u = 10**8, None\n",
        "        v = tour[-1]\n",
        "        for u in G[v]:\n",
        "            if min_d > G[v][u][\"weight\"] and u not in visited:\n",
        "                min_d = G[v][u][\"weight\"]\n",
        "                min_u = u\n",
        "        visited[min_u] = True\n",
        "        tour.append(min_u)\n",
        "    return tour\n",
        "\n",
        "def tsp_solve(C,timelimit=500):\n",
        "    ''' TSPを解くためのプログラム\n",
        "    input: 都市集合C, 制限時間timelimit(秒)\n",
        "    output: 巡回路\n",
        "    '''\n",
        "    G = nx.Graph()\n",
        "    for v in C:\n",
        "        G.add_node(v)\n",
        "    for i, ci in enumerate(C):\n",
        "        for j, cj in enumerate(C):\n",
        "            if i < j:\n",
        "                G.add_edge(ci,cj, weight=distance(C[ci], C[cj]))\n",
        "    starttime=time.time()\n",
        "    while time.time() - starttime < timelimit:\n",
        "        tour = NN(C, G)\n",
        "\n",
        "    return tour\n",
        "\n",
        "tour=tsp_solve(C,5)"
      ],
      "execution_count": 27,
      "outputs": []
    },
    {
      "cell_type": "markdown",
      "metadata": {
        "id": "ztkNEMj5yOgO",
        "colab_type": "text"
      },
      "source": [
        "## 4. 解tourの描画と実行可能性"
      ]
    },
    {
      "cell_type": "code",
      "metadata": {
        "id": "YF63WHG0yOgP",
        "colab_type": "code",
        "colab": {
          "base_uri": "https://localhost:8080/",
          "height": 717
        },
        "outputId": "b55d534f-74b0-403e-f5e0-958c1bda91d0"
      },
      "source": [
        "Gt=graph_of_tour(tour)\n",
        "print('size of tour:', Gt.size(weight='weight'))\n",
        "print('feasibility:',nx.is_k_edge_connected(Gt,2))\n",
        "\n",
        "import matplotlib.pyplot as plt\n",
        "plt.figure(figsize=(12,12))\n",
        "nx.draw_networkx(Gt,pos=C,node_color=\"yellow\",node_size=200,with_labels=True,edge_color=\"k\",width=1,axis=\"equal\")\n",
        "plt.show() "
      ],
      "execution_count": 28,
      "outputs": [
        {
          "output_type": "stream",
          "text": [
            "size of tour: 27301.80722834746\n",
            "feasibility: True\n"
          ],
          "name": "stdout"
        },
        {
          "output_type": "display_data",
          "data": {
            "image/png": "[encoded data removed]",
            "text/plain": [
              "<Figure size 864x864 with 1 Axes>"
            ]
          },
          "metadata": {
            "tags": []
          }
        }
      ]
    },
    {
      "cell_type": "markdown",
      "metadata": {
        "id": "xMbn-LDb-zcn",
        "colab_type": "text"
      },
      "source": [
        "Nearest Neighbor "
      ]
    },
    {
      "cell_type": "code",
      "metadata": {
        "id": "jh4MxBxyApzT",
        "colab_type": "code",
        "colab": {}
      },
      "source": [
        "#すべてのノードがつながってる　全結合\n",
        "# graph of tour だと人筆書き\n",
        "\n",
        "#グラフの作成\n",
        "G = nx.Graph()\n",
        "\n",
        "#グラフに各都市の座標を追加\n",
        "for v in C:\n",
        "    G.add_node(v)\n",
        "\n",
        "#枝を追加\n",
        "for i, ci in enumerate(C):\n",
        "    for j, cj in enumerate(C):\n",
        "        if i < j:\n",
        "            G.add_edge(ci,cj, weight=distance(C[ci], C[cj]))"
      ],
      "execution_count": 21,
      "outputs": []
    },
    {
      "cell_type": "code",
      "metadata": {
        "id": "LH7w3-LAyOgR",
        "colab_type": "code",
        "colab": {
          "base_uri": "https://localhost:8080/",
          "height": 187
        },
        "outputId": "1826bd91-edd3-420c-aa76-d3bd41bc2bb5"
      },
      "source": [
        "#vから一番近い点を求める\n",
        "v = 0\n",
        "min_d, min_u = 10**8, None\n",
        "\n",
        "for u in G[v]:\n",
        "    #G[v][u]はv→uのdistance(weight)を表示\n",
        "    # print(u, G[v][u][\"weight\"])\n",
        "    if min_d > G[v][u][\"weight\"]:\n",
        "        min_d = G[v][u][\"weight\"]\n",
        "        min_u = u\n",
        "print(min_d, min_u)"
      ],
      "execution_count": 24,
      "outputs": [
        {
          "output_type": "stream",
          "text": [
            "1 1992.684872226414\n",
            "2 8166.305223294069\n",
            "3 7118.613137402537\n",
            "4 4713.687516159721\n",
            "5 6989.467647825548\n",
            "6 3829.6323583341523\n",
            "7 7193.7128800084865\n",
            "8 7419.593856809145\n",
            "9 8830.859754293462\n",
            "1992.684872226414 1\n"
          ],
          "name": "stdout"
        }
      ]
    },
    {
      "cell_type": "code",
      "metadata": {
        "id": "iNq8yadjCpkX",
        "colab_type": "code",
        "colab": {
          "base_uri": "https://localhost:8080/",
          "height": 374
        },
        "outputId": "3f931293-8d53-4fc0-b4df-42e66131390a"
      },
      "source": [
        "def NN(C, G):\n",
        "    #一度行った場所にはいかないようにする\n",
        "    tour = [0]\n",
        "    visited = {0:True}\n",
        "\n",
        "    #tourが都市の数と等しくなるまで近いところを行くようにする\n",
        "    while len(tour) < len(C):\n",
        "        min_d, min_u = 100000000, None\n",
        "        v = tour[-1]\n",
        "        for u in G[v]:\n",
        "            if min_d > G[v][u][\"weight\"] and u not in visited:\n",
        "                min_d = G[v][u][\"weight\"]\n",
        "                min_u = u\n",
        "        visited[min_u] = True\n",
        "        tour.append(min_u)\n",
        "    return tour\n",
        "\n",
        "#G = nx.Digraph()\n",
        "G = nx.Graph()\n",
        "\n",
        "for v in C:\n",
        "    G.add_node(v)\n",
        "for i, ci in enumerate(C):\n",
        "    for j, cj in enumerate(C):\n",
        "        if i < j:\n",
        "            G.add_edge(ci, cj, weight=distance(C[ci], C[cj]))\n",
        "print(G.nodes)\n",
        "tour = NN(C, G)\n",
        "Gt = graph_of_tour(tour)\n",
        "plt.figure(figsize=(6, 6))\n",
        "nx.draw_networkx(Gt,pos=C,node_color=\"yellow\",node_size=200,with_labels=True,edge_color=\"k\",width=1,axis=\"equal\")\n",
        "plt.show()"
      ],
      "execution_count": 26,
      "outputs": [
        {
          "output_type": "stream",
          "text": [
            "[0, 1, 2, 3, 4, 5, 6, 7, 8, 9]\n"
          ],
          "name": "stdout"
        },
        {
          "output_type": "display_data",
          "data": {
            "image/png": "[encoded data removed]",
            "text/plain": [
              "<Figure size 432x432 with 1 Axes>"
            ]
          },
          "metadata": {
            "tags": []
          }
        }
      ]
    },
    {
      "cell_type": "code",
      "metadata": {
        "id": "IFoqqOzc-4xG",
        "colab_type": "code",
        "colab": {
          "base_uri": "https://localhost:8080/",
          "height": 170
        },
        "outputId": "07c69bec-a61f-4186-f919-2bda886b521f"
      },
      "source": [
        "for u in G[v]:\n",
        "    print(u)"
      ],
      "execution_count": 24,
      "outputs": [
        {
          "output_type": "stream",
          "text": [
            "0\n",
            "1\n",
            "2\n",
            "3\n",
            "4\n",
            "5\n",
            "6\n",
            "7\n",
            "8\n"
          ],
          "name": "stdout"
        }
      ]
    },
    {
      "cell_type": "code",
      "metadata": {
        "id": "s1c6vaMiAWXO",
        "colab_type": "code",
        "colab": {}
      },
      "source": [
        ""
      ],
      "execution_count": null,
      "outputs": []
    }
  ]
}