{
  "nbformat": 4,
  "nbformat_minor": 0,
  "metadata": {
    "kernelspec": {
      "display_name": "Python 3",
      "language": "python",
      "name": "python3"
    },
    "language_info": {
      "codemirror_mode": {
        "name": "ipython",
        "version": 3
      },
      "file_extension": ".py",
      "mimetype": "text/x-python",
      "name": "python",
      "nbconvert_exporter": "python",
      "pygments_lexer": "ipython3",
      "version": "3.6.8"
    },
    "colab": {
      "name": "多断片法.ipynb ",
      "provenance": [],
      "include_colab_link": true
    }
  },
  "cells": [
    {
      "cell_type": "markdown",
      "metadata": {
        "id": "view-in-github",
        "colab_type": "text"
      },
      "source": [
        "<a href=\"https://colab.research.google.com/github/stutkhd/excercise_logistics/blob/master/%E5%A4%9A%E6%96%AD%E7%89%87%E6%B3%95.ipynb\" target=\"_parent\"><img src=\"https://colab.research.google.com/assets/colab-badge.svg\" alt=\"Open In Colab\"/></a>"
      ]
    },
    {
      "cell_type": "markdown",
      "metadata": {
        "id": "rU3CvdmDKe0y",
        "colab_type": "text"
      },
      "source": [
        "# 第8, 9, 10回. コンペティション用プログラム作成\n",
        "\n",
        "## 1. 都市集合C\n",
        "### 1.1 ベンチマーク問題例TSPLIBを使う場合"
      ]
    },
    {
      "cell_type": "markdown",
      "metadata": {
        "id": "yrtwC_nxGnx4",
        "colab_type": "text"
      },
      "source": [
        "#多断片法とは"
      ]
    },
    {
      "cell_type": "code",
      "metadata": {
        "scrolled": true,
        "id": "vRDNFOqSKe00",
        "colab_type": "code",
        "colab": {}
      },
      "source": [
        "def strnum_to_num(t):\n",
        "    num=t.split(\"e+\")\n",
        "    r=float(num[0])\n",
        "    if len(num)==2:\n",
        "        r *= 10**int(num[1])\n",
        "    return r\n",
        "\n",
        "def read_tsp_file(instance):\n",
        "    if instance[:4]==\"http\":\n",
        "        import urllib.request\n",
        "        with urllib.request.urlopen(instance) as f:\n",
        "            with open('tmp.txt', 'w') as g:\n",
        "                print(f.read().decode(), file=g)\n",
        "                instance=\"tmp.txt\"\n",
        "        \n",
        "    with open(instance,\"r\") as f:\n",
        "        for i in range(6):\n",
        "            line=f.readline().rstrip(\"\\n\")        \n",
        "        C={}\n",
        "        for line in f.readlines():\n",
        "            node=line.rstrip(\"\\n\").split()\n",
        "            name=node[0]            \n",
        "            if name == \"EOF\":\n",
        "                break\n",
        "            if node[0]=='NODE_COORD_SECTION':\n",
        "                continue\n",
        "            x,y=strnum_to_num(node[1]),strnum_to_num(node[2])\n",
        "            C[name]=(x,y)\n",
        "        return C\n",
        "    \n",
        "instance=\"http://elib.zib.de/pub/mp-testdata/tsp/tsplib/tsp/ch130.tsp\"\n",
        "C=read_tsp_file(instance)"
      ],
      "execution_count": null,
      "outputs": []
    },
    {
      "cell_type": "markdown",
      "metadata": {
        "id": "LD32EeDdKe1A",
        "colab_type": "text"
      },
      "source": [
        "### 1.2 ランダムなデータを使う場合"
      ]
    },
    {
      "cell_type": "code",
      "metadata": {
        "id": "G-PtKx9dKe1B",
        "colab_type": "code",
        "colab": {}
      },
      "source": [
        "C={}\n",
        "n=10\n",
        "R=10000\n",
        "\n",
        "import random\n",
        "for i in range(n):\n",
        "    x=random.randint(0,R)\n",
        "    y=random.randint(0,R)\n",
        "    C[i]=(x,y)"
      ],
      "execution_count": 1,
      "outputs": []
    },
    {
      "cell_type": "markdown",
      "metadata": {
        "id": "_uAY-KuOKe1G",
        "colab_type": "text"
      },
      "source": [
        "## 2. distanceとgraph_of_tourの定義"
      ]
    },
    {
      "cell_type": "code",
      "metadata": {
        "id": "7DPPqgcEKe1H",
        "colab_type": "code",
        "colab": {}
      },
      "source": [
        "def distance(pa,pb):\n",
        "    return ((pa[0]-pb[0])**2 + (pa[1]-pb[1])**2)**0.5\n",
        "\n",
        "import networkx as nx\n",
        "\n",
        "def graph_of_tour(tour):\n",
        "    Gt=nx.Graph()\n",
        "\n",
        "    for i in range(len(tour)):\n",
        "        ci=tour[i]\n",
        "        if i == len(tour)-1:\n",
        "            cj=tour[0]\n",
        "        else:\n",
        "            cj=tour[i+1]        \n",
        "        Gt.add_edge(ci,cj,weight=distance(C[ci],C[cj]))\n",
        "    return Gt"
      ],
      "execution_count": 2,
      "outputs": []
    },
    {
      "cell_type": "markdown",
      "metadata": {
        "id": "xBwuR-8wKe1T",
        "colab_type": "text"
      },
      "source": [
        "## 3. アルゴリズム\n",
        "\n",
        "提出してもらったみなさんのプログラムはtsp_solveから実行します．制限時間で止まるようしておいてください．"
      ]
    },
    {
      "cell_type": "code",
      "metadata": {
        "id": "RL4QoeR2Ke1U",
        "colab_type": "code",
        "colab": {}
      },
      "source": [
        "import time\n",
        "\n",
        "def tsp_solve(C,timelimit=500):\n",
        "    ''' TSPを解くためのプログラム\n",
        "    input: 都市集合C, 制限時間timelimit(秒)\n",
        "    output: 巡回路\n",
        "    '''\n",
        "    starttime=time.time()\n",
        "    while time.time() - starttime < timelimit:\n",
        "        tour = [i for i in C]\n",
        "        \n",
        "    return tour\n",
        "\n",
        "tour=tsp_solve(C,3)"
      ],
      "execution_count": null,
      "outputs": []
    },
    {
      "cell_type": "markdown",
      "metadata": {
        "id": "qANt4FPuKe1a",
        "colab_type": "text"
      },
      "source": [
        "## 4. 解tourの描画と実行可能性"
      ]
    },
    {
      "cell_type": "code",
      "metadata": {
        "id": "hIYHco-1Ke1b",
        "colab_type": "code",
        "colab": {}
      },
      "source": [
        "Gt=graph_of_tour(tour)\n",
        "print('size of tour:', Gt.size(weight='weight'))\n",
        "print('feasibility:',nx.is_k_edge_connected(Gt,2))\n",
        "\n",
        "import matplotlib.pyplot as plt\n",
        "plt.figure(figsize=(12,12))\n",
        "nx.draw_networkx(Gt,pos=C,node_color=\"yellow\",node_size=200,with_labels=True,edge_color=\"k\",width=1,axis=\"equal\")\n",
        "plt.show() "
      ],
      "execution_count": null,
      "outputs": []
    },
    {
      "cell_type": "code",
      "metadata": {
        "id": "d1pwR7o8Ke1f",
        "colab_type": "code",
        "colab": {}
      },
      "source": [
        "E_sol = []\n",
        "E_rest = [(distance(C[ci], C[cj]), (ci, cj)) for i,ci in enumerate(C) for j, cj in enumerate(C) if i<j]"
      ],
      "execution_count": 5,
      "outputs": []
    },
    {
      "cell_type": "code",
      "metadata": {
        "id": "tpZMN0dAa5sr",
        "colab_type": "code",
        "colab": {
          "base_uri": "https://localhost:8080/",
          "height": 54
        },
        "outputId": "252d918d-549b-4a66-9a6b-6efbe9eb85fb"
      },
      "source": [
        "print(E_rest) #距離と枝が入ってる"
      ],
      "execution_count": 6,
      "outputs": [
        {
          "output_type": "stream",
          "text": [
            "[(8423.174757773935, (0, 1)), (597.4629695638049, (0, 2)), (625.7036039531816, (0, 3)), (8274.009910557275, (0, 4)), (8065.278978435897, (0, 5)), (1058.365721289196, (0, 6)), (1079.5934419956432, (0, 7)), (7752.205492632404, (0, 8)), (6968.778156893789, (0, 9)), (7837.833693055754, (1, 2)), (8517.689475438747, (1, 3)), (3337.5555426089913, (1, 4)), (1243.1741631806865, (1, 5)), (7445.611123339709, (1, 6)), (7485.7115226276255, (1, 7)), (5321.561894782396, (1, 8)), (3020.768776321683, (1, 9)), (830.0993916393386, (2, 3)), (7690.354608208909, (2, 4)), (7468.6216265118155, (2, 5)), (638.4606487482216, (2, 6)), (721.1102550927978, (2, 7)), (7224.874808603952, (2, 8)), (6378.921303794239, (2, 9)), (8119.046557324326, (3, 4)), (8071.056932025694, (3, 5)), (1458.5365953585122, (3, 6)), (1523.5566940550652, (3, 7)), (7444.019411581354, (3, 8)), (6851.839606996065, (3, 9)), (2108.267772366689, (4, 5)), (7550.684869599579, (4, 6)), (7639.154010752762, (4, 7)), (2167.299240990962, (4, 8)), (1369.8996313599037, (4, 9)), (7162.0330214262485, (5, 6)), (7221.555857292804, (5, 7)), (4084.7576427494446, (5, 8)), (1872.090275601046, (5, 9)), (127.5617497528158, (6, 7)), (7268.079251081403, (6, 8)), (6209.118214368285, (6, 9)), (7379.0904588573785, (7, 8)), (6293.946059508296, (7, 9)), (2457.137562286654, (8, 9))]\n"
          ],
          "name": "stdout"
        }
      ]
    },
    {
      "cell_type": "code",
      "metadata": {
        "id": "IAyOw1YfbLk-",
        "colab_type": "code",
        "colab": {}
      },
      "source": [
        "#sortでpopしやすいようにする\n",
        "E_rest.sort(reverse=True)\n",
        "delta = {i:0 for i in C}\n",
        "theta = {i:i for i in C}"
      ],
      "execution_count": 10,
      "outputs": []
    },
    {
      "cell_type": "code",
      "metadata": {
        "id": "YFchbpAebcYV",
        "colab_type": "code",
        "colab": {
          "base_uri": "https://localhost:8080/",
          "height": 51
        },
        "outputId": "ce6a9012-3039-4daf-f4dc-9a6e33b0d59c"
      },
      "source": [
        "while len(E_sol) != len(C)-1:\n",
        "    d, (i,j) = E_rest.pop()\n",
        "    if delta[i] == 2 or delta[j] == 2:\n",
        "        pass\n",
        "    elif delta[i] == 1 and theta[i] == j:\n",
        "        pass\n",
        "    else:\n",
        "        E_sol.append((i, j))\n",
        "        delta[i] = delta[i]+1\n",
        "        delta[j] = delta[j]+1\n",
        "        p=theta[i]\n",
        "        q=theta[j]\n",
        "        theta[p]=q\n",
        "        theta[q]=p\n",
        "    \n",
        "keys = [k for k, v in delta.items() if v==1]\n",
        "key=tuple(keys)\n",
        "print(keys)\n",
        "print(delta)"
      ],
      "execution_count": 12,
      "outputs": [
        {
          "output_type": "stream",
          "text": [
            "[1, 3]\n",
            "{0: 2, 1: 1, 2: 2, 3: 1, 4: 2, 5: 2, 6: 2, 7: 2, 8: 2, 9: 2}\n"
          ],
          "name": "stdout"
        }
      ]
    },
    {
      "cell_type": "code",
      "metadata": {
        "id": "-1fRrzFUnjVj",
        "colab_type": "code",
        "colab": {
          "base_uri": "https://localhost:8080/",
          "height": 204
        },
        "outputId": "f3ffab01-6cbd-4bbc-b45b-17c4638123fc"
      },
      "source": [
        "E_sol.append(key)\n",
        "E_sol"
      ],
      "execution_count": 14,
      "outputs": [
        {
          "output_type": "execute_result",
          "data": {
            "text/plain": [
              "[(6, 7),\n",
              " (0, 2),\n",
              " (0, 3),\n",
              " (2, 6),\n",
              " (1, 5),\n",
              " (4, 9),\n",
              " (5, 9),\n",
              " (4, 8),\n",
              " (7, 8),\n",
              " (1, 3),\n",
              " (1, 3)]"
            ]
          },
          "metadata": {
            "tags": []
          },
          "execution_count": 14
        }
      ]
    },
    {
      "cell_type": "code",
      "metadata": {
        "id": "ZKvPlhmNrUHC",
        "colab_type": "code",
        "colab": {}
      },
      "source": [
        ""
      ],
      "execution_count": null,
      "outputs": []
    }
  ]
}