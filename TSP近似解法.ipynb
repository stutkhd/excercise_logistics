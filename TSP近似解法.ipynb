{
  "nbformat": 4,
  "nbformat_minor": 0,
  "metadata": {
    "kernelspec": {
      "display_name": "Python 3",
      "language": "python",
      "name": "python3"
    },
    "language_info": {
      "codemirror_mode": {
        "name": "ipython",
        "version": 3
      },
      "file_extension": ".py",
      "mimetype": "text/x-python",
      "name": "python",
      "nbconvert_exporter": "python",
      "pygments_lexer": "ipython3",
      "version": "3.6.8"
    },
    "colab": {
      "name": "TSP近似解法.ipynb",
      "provenance": [],
      "collapsed_sections": [],
      "include_colab_link": true
    }
  },
  "cells": [
    {
      "cell_type": "markdown",
      "metadata": {
        "id": "view-in-github",
        "colab_type": "text"
      },
      "source": [
        "<a href=\"https://colab.research.google.com/github/stutkhd/excercise_logistics/blob/master/TSP%E8%BF%91%E4%BC%BC%E8%A7%A3%E6%B3%95.ipynb\" target=\"_parent\"><img src=\"https://colab.research.google.com/assets/colab-badge.svg\" alt=\"Open In Colab\"/></a>"
      ]
    },
    {
      "cell_type": "markdown",
      "metadata": {
        "id": "kljvzUp1ydjl",
        "colab_type": "text"
      },
      "source": [
        "# TSP近似解法"
      ]
    },
    {
      "cell_type": "markdown",
      "metadata": {
        "id": "jZNswhERzKRo",
        "colab_type": "text"
      },
      "source": [
        "### TSP近似解法とは\n",
        "---\n"
      ]
    },
    {
      "cell_type": "code",
      "metadata": {
        "id": "WH1opjKdSXL4",
        "colab_type": "code",
        "colab": {}
      },
      "source": [
        "tour = list(range(0, 10))\n",
        "\n",
        "#描画\n",
        "Gt = graph_of_tour(tour)"
      ],
      "execution_count": null,
      "outputs": []
    },
    {
      "cell_type": "markdown",
      "metadata": {
        "id": "XvW1je4KyOgB",
        "colab_type": "text"
      },
      "source": [
        "# 第8, 9, 10回. コンペティション用プログラム作成\n",
        "\n",
        "## 1. 都市集合C\n",
        "### 1.1 ベンチマーク問題例TSPLIBを使う場合"
      ]
    },
    {
      "cell_type": "code",
      "metadata": {
        "scrolled": true,
        "id": "6RxAdwvByOgC",
        "colab_type": "code",
        "colab": {}
      },
      "source": [
        "def strnum_to_num(t):\n",
        "    num=t.split(\"e+\")\n",
        "    r=float(num[0])\n",
        "    if len(num)==2:\n",
        "        r *= 10**int(num[1])\n",
        "    return r\n",
        "\n",
        "def read_tsp_file(instance):\n",
        "    if instance[:4]==\"http\":\n",
        "        import urllib.request\n",
        "        with urllib.request.urlopen(instance) as f:\n",
        "            with open('tmp.txt', 'w') as g:\n",
        "                print(f.read().decode(), file=g)\n",
        "                instance=\"tmp.txt\"\n",
        "        \n",
        "    with open(instance,\"r\") as f:\n",
        "        for i in range(6):\n",
        "            line=f.readline().rstrip(\"\\n\")        \n",
        "        C={}\n",
        "        for line in f.readlines():\n",
        "            node=line.rstrip(\"\\n\").split()\n",
        "            name=node[0]            \n",
        "            if name == \"EOF\":\n",
        "                break\n",
        "            if node[0]=='NODE_COORD_SECTION':\n",
        "                continue\n",
        "            x,y=strnum_to_num(node[1]),strnum_to_num(node[2])\n",
        "            C[name]=(x,y)\n",
        "        return C\n",
        "    \n",
        "instance=\"http://elib.zib.de/pub/mp-testdata/tsp/tsplib/tsp/ch130.tsp\"\n",
        "C=read_tsp_file(instance)"
      ],
      "execution_count": 40,
      "outputs": []
    },
    {
      "cell_type": "markdown",
      "metadata": {
        "id": "S9S-s7q-yOgG",
        "colab_type": "text"
      },
      "source": [
        "### 1.2 ランダムなデータを使う場合"
      ]
    },
    {
      "cell_type": "code",
      "metadata": {
        "id": "W425cPyAyOgG",
        "colab_type": "code",
        "colab": {}
      },
      "source": [
        "C={}\n",
        "n=10\n",
        "R=10000\n",
        "\n",
        "import random\n",
        "for i in range(n):\n",
        "    x=random.randint(0,R)\n",
        "    y=random.randint(0,R)\n",
        "    C[i]=(x,y)"
      ],
      "execution_count": 41,
      "outputs": []
    },
    {
      "cell_type": "markdown",
      "metadata": {
        "id": "kopVgiPdyOgJ",
        "colab_type": "text"
      },
      "source": [
        "## 2. distanceとgraph_of_tourの定義"
      ]
    },
    {
      "cell_type": "code",
      "metadata": {
        "id": "m7aWKWKFyOgJ",
        "colab_type": "code",
        "colab": {}
      },
      "source": [
        "def distance(pa,pb):\n",
        "    return ((pa[0]-pb[0])**2 + (pa[1]-pb[1])**2)**0.5\n",
        "\n",
        "import networkx as nx\n",
        "\n",
        "def graph_of_tour(tour):\n",
        "    Gt=nx.Graph()\n",
        "\n",
        "    for i in range(len(tour)):\n",
        "        ci=tour[i]\n",
        "        if i == len(tour)-1:\n",
        "            cj=tour[0]\n",
        "        else:\n",
        "            cj=tour[i+1]        \n",
        "        Gt.add_edge(ci,cj,weight=distance(C[ci],C[cj]))\n",
        "    return Gt"
      ],
      "execution_count": 42,
      "outputs": []
    },
    {
      "cell_type": "markdown",
      "metadata": {
        "id": "CV1EfolFyOgM",
        "colab_type": "text"
      },
      "source": [
        "## 3. アルゴリズム\n",
        "\n",
        "提出してもらったみなさんのプログラムはtsp_solveから実行します．制限時間で止まるようしておいてください．"
      ]
    },
    {
      "cell_type": "code",
      "metadata": {
        "id": "mxg68QwPyOgM",
        "colab_type": "code",
        "colab": {}
      },
      "source": [
        "import time\n",
        "\n",
        "#TSP近似解法\n",
        "def traverse_tree(t, v, parent=None):\n",
        "    L.append(v)\n",
        "    for u in T[v]:\n",
        "        if u != parent:\n",
        "            traverse_tree(t, u, parent=v) \n",
        "\n",
        "def tsp_solve(C,timelimit=500):\n",
        "    ''' TSPを解くためのプログラム\n",
        "    input: 都市集合C, 制限時間timelimit(秒)\n",
        "    output: 巡回路\n",
        "    '''\n",
        "    starttime=time.time()\n",
        "    while time.time() - starttime < timelimit:\n",
        "        tour = [i for i in C]\n",
        "        G = graph_of_tour(tour)\n",
        "        T = nx.minimum_spanning_tree(G)\n",
        "        traverse_tree(T, 0)\n",
        "        \n",
        "        \n",
        "    return tour\n",
        "L = []\n",
        "tour=tsp_solve(C, 3)\n",
        "tour = L"
      ],
      "execution_count": 50,
      "outputs": []
    },
    {
      "cell_type": "markdown",
      "metadata": {
        "id": "ztkNEMj5yOgO",
        "colab_type": "text"
      },
      "source": [
        "## 4. 解tourの描画と実行可能性"
      ]
    },
    {
      "cell_type": "code",
      "metadata": {
        "id": "YF63WHG0yOgP",
        "colab_type": "code",
        "colab": {
          "base_uri": "https://localhost:8080/",
          "height": 717
        },
        "outputId": "6fb01427-0989-4edc-830c-f28ed0e9c51f"
      },
      "source": [
        "Gt=graph_of_tour(tour)\n",
        "print('size of tour:', Gt.size(weight='weight'))\n",
        "print('feasibility:',nx.is_k_edge_connected(Gt,2))\n",
        "\n",
        "import matplotlib.pyplot as plt\n",
        "plt.figure(figsize=(12,12))\n",
        "nx.draw_networkx(Gt,pos=C,node_color=\"yellow\",node_size=200,with_labels=True,edge_color=\"k\",width=1,axis=\"equal\")\n",
        "plt.show() "
      ],
      "execution_count": 51,
      "outputs": [
        {
          "output_type": "stream",
          "text": [
            "size of tour: 47024.00514945696\n",
            "feasibility: True\n"
          ],
          "name": "stdout"
        },
        {
          "output_type": "display_data",
          "data": {
            "image/png": "[encoded data removed]",
            "text/plain": [
              "<Figure size 864x864 with 1 Axes>"
            ]
          },
          "metadata": {
            "tags": []
          }
        }
      ]
    },
    {
      "cell_type": "code",
      "metadata": {
        "id": "XE64yHi_bLg4",
        "colab_type": "code",
        "colab": {
          "base_uri": "https://localhost:8080/",
          "height": 54
        },
        "outputId": "b306bc1f-5cc6-4956-e71d-badc527ce7a9"
      },
      "source": [
        "print(C)"
      ],
      "execution_count": 46,
      "outputs": [
        {
          "output_type": "stream",
          "text": [
            "{0: (4268, 1720), 1: (5044, 1532), 2: (7674, 9094), 3: (6281, 6393), 4: (4607, 888), 5: (8387, 127), 6: (616, 4031), 7: (3254, 5355), 8: (6318, 4050), 9: (1751, 6981)}\n"
          ],
          "name": "stdout"
        }
      ]
    },
    {
      "cell_type": "code",
      "metadata": {
        "id": "d5vu0TucbNzy",
        "colab_type": "code",
        "colab": {
          "base_uri": "https://localhost:8080/",
          "height": 34
        },
        "outputId": "6fd80364-fcd4-4ad5-806b-0c9ad53c9231"
      },
      "source": [
        "tour = [i for i in C]\n",
        "tour"
      ],
      "execution_count": 47,
      "outputs": [
        {
          "output_type": "execute_result",
          "data": {
            "text/plain": [
              "[0, 1, 2, 3, 4, 5, 6, 7, 8, 9]"
            ]
          },
          "metadata": {
            "tags": []
          },
          "execution_count": 47
        }
      ]
    },
    {
      "cell_type": "code",
      "metadata": {
        "id": "LH7w3-LAyOgR",
        "colab_type": "code",
        "colab": {
          "base_uri": "https://localhost:8080/",
          "height": 187
        },
        "outputId": "fd02619d-5b56-4965-a530-bdab09cb44ec"
      },
      "source": [
        "import networkx as nx\n",
        "\n",
        "tour = [i for i in C] #node_index\n",
        "G = graph_of_tour(tour)\n",
        "T = nx.minimum_spanning_tree(G)\n",
        "for e in T.nodes():\n",
        "    print(e)\n"
      ],
      "execution_count": 48,
      "outputs": [
        {
          "output_type": "stream",
          "text": [
            "0\n",
            "1\n",
            "2\n",
            "3\n",
            "4\n",
            "5\n",
            "6\n",
            "7\n",
            "8\n",
            "9\n"
          ],
          "name": "stdout"
        }
      ]
    },
    {
      "cell_type": "code",
      "metadata": {
        "id": "8Rf7iczmRpNp",
        "colab_type": "code",
        "colab": {
          "base_uri": "https://localhost:8080/",
          "height": 34
        },
        "outputId": "ff155514-93b7-4668-908f-e7b4a6ace478"
      },
      "source": [
        "#木をたどる　再帰的に\n",
        "#t::最小木\n",
        "L = []\n",
        "def traverse_tree(t, v, parent=None):\n",
        "    L.append(v)\n",
        "    for u in T[v]:\n",
        "        if u != parent:\n",
        "            traverse_tree(t, u, parent=v) \n",
        "traverse_tree(T, 0)\n",
        "L"
      ],
      "execution_count": 49,
      "outputs": [
        {
          "output_type": "execute_result",
          "data": {
            "text/plain": [
              "[0, 1, 2, 3, 4, 5, 9, 8, 7, 6]"
            ]
          },
          "metadata": {
            "tags": []
          },
          "execution_count": 49
        }
      ]
    },
    {
      "cell_type": "code",
      "metadata": {
        "id": "kwuGFXVseobq",
        "colab_type": "code",
        "colab": {
          "base_uri": "https://localhost:8080/",
          "height": 34
        },
        "outputId": "629644de-1480-47f6-8ff7-d0f9f8b016c8"
      },
      "source": [
        ""
      ],
      "execution_count": 19,
      "outputs": [
        {
          "output_type": "execute_result",
          "data": {
            "text/plain": [
              "[0, 1, 2, 3, 4, 9, 8, 7, 6, 5, 0, 1, 2, 3, 4, 9, 8, 7, 6, 5]"
            ]
          },
          "metadata": {
            "tags": []
          },
          "execution_count": 19
        }
      ]
    },
    {
      "cell_type": "code",
      "metadata": {
        "id": "O2vEuYN6e4Br",
        "colab_type": "code",
        "colab": {}
      },
      "source": [
        ""
      ],
      "execution_count": null,
      "outputs": []
    }
  ]
}