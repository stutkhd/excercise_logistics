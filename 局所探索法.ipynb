{
  "nbformat": 4,
  "nbformat_minor": 0,
  "metadata": {
    "kernelspec": {
      "display_name": "Python 3",
      "language": "python",
      "name": "python3"
    },
    "language_info": {
      "codemirror_mode": {
        "name": "ipython",
        "version": 3
      },
      "file_extension": ".py",
      "mimetype": "text/x-python",
      "name": "python",
      "nbconvert_exporter": "python",
      "pygments_lexer": "ipython3",
      "version": "3.6.8"
    },
    "colab": {
      "name": "局所探索法.ipynb",
      "provenance": [],
      "include_colab_link": true
    }
  },
  "cells": [
    {
      "cell_type": "markdown",
      "metadata": {
        "id": "view-in-github",
        "colab_type": "text"
      },
      "source": [
        "<a href=\"https://colab.research.google.com/github/stutkhd/excercise_logistics/blob/master/%E5%B1%80%E6%89%80%E6%8E%A2%E7%B4%A2%E6%B3%95.ipynb\" target=\"_parent\"><img src=\"https://colab.research.google.com/assets/colab-badge.svg\" alt=\"Open In Colab\"/></a>"
      ]
    },
    {
      "cell_type": "markdown",
      "metadata": {
        "id": "rU3CvdmDKe0y",
        "colab_type": "text"
      },
      "source": [
        "# 第8, 9, 10回. コンペティション用プログラム作成\n",
        "\n",
        "## 1. 都市集合C\n",
        "### 1.1 ベンチマーク問題例TSPLIBを使う場合"
      ]
    },
    {
      "cell_type": "code",
      "metadata": {
        "scrolled": true,
        "id": "vRDNFOqSKe00",
        "colab_type": "code",
        "colab": {}
      },
      "source": [
        "def strnum_to_num(t):\n",
        "    num=t.split(\"e+\")\n",
        "    r=float(num[0])\n",
        "    if len(num)==2:\n",
        "        r *= 10**int(num[1])\n",
        "    return r\n",
        "\n",
        "def read_tsp_file(instance):\n",
        "    if instance[:4]==\"http\":\n",
        "        import urllib.request\n",
        "        with urllib.request.urlopen(instance) as f:\n",
        "            with open('tmp.txt', 'w') as g:\n",
        "                print(f.read().decode(), file=g)\n",
        "                instance=\"tmp.txt\"\n",
        "        \n",
        "    with open(instance,\"r\") as f:\n",
        "        for i in range(6):\n",
        "            line=f.readline().rstrip(\"\\n\")        \n",
        "        C={}\n",
        "        for line in f.readlines():\n",
        "            node=line.rstrip(\"\\n\").split()\n",
        "            name=node[0]            \n",
        "            if name == \"EOF\":\n",
        "                break\n",
        "            if node[0]=='NODE_COORD_SECTION':\n",
        "                continue\n",
        "            x,y=strnum_to_num(node[1]),strnum_to_num(node[2])\n",
        "            C[name]=(x,y)\n",
        "        return C\n",
        "    \n",
        "instance=\"http://elib.zib.de/pub/mp-testdata/tsp/tsplib/tsp/ch130.tsp\"\n",
        "C=read_tsp_file(instance)"
      ],
      "execution_count": 1,
      "outputs": []
    },
    {
      "cell_type": "markdown",
      "metadata": {
        "id": "LD32EeDdKe1A",
        "colab_type": "text"
      },
      "source": [
        "### 1.2 ランダムなデータを使う場合"
      ]
    },
    {
      "cell_type": "code",
      "metadata": {
        "id": "G-PtKx9dKe1B",
        "colab_type": "code",
        "colab": {}
      },
      "source": [
        "C={}\n",
        "n=10\n",
        "R=10000\n",
        "\n",
        "import random\n",
        "for i in range(n):\n",
        "    x=random.randint(0,R)\n",
        "    y=random.randint(0,R)\n",
        "    C[i]=(x,y)"
      ],
      "execution_count": 2,
      "outputs": []
    },
    {
      "cell_type": "markdown",
      "metadata": {
        "id": "_uAY-KuOKe1G",
        "colab_type": "text"
      },
      "source": [
        "## 2. distanceとgraph_of_tourの定義"
      ]
    },
    {
      "cell_type": "code",
      "metadata": {
        "id": "7DPPqgcEKe1H",
        "colab_type": "code",
        "colab": {}
      },
      "source": [
        "def distance(pa,pb):\n",
        "    return ((pa[0]-pb[0])**2 + (pa[1]-pb[1])**2)**0.5\n",
        "\n",
        "import networkx as nx\n",
        "\n",
        "def graph_of_tour(tour):\n",
        "    Gt=nx.Graph()\n",
        "\n",
        "    for i in range(len(tour)):\n",
        "        ci=tour[i]\n",
        "        if i == len(tour)-1:\n",
        "            cj=tour[0]\n",
        "        else:\n",
        "            cj=tour[i+1]        \n",
        "        Gt.add_edge(ci,cj,weight=distance(C[ci],C[cj]))\n",
        "    return Gt"
      ],
      "execution_count": 3,
      "outputs": []
    },
    {
      "cell_type": "markdown",
      "metadata": {
        "id": "xBwuR-8wKe1T",
        "colab_type": "text"
      },
      "source": [
        "## 3. アルゴリズム\n",
        "\n",
        "提出してもらったみなさんのプログラムはtsp_solveから実行します．制限時間で止まるようしておいてください．"
      ]
    },
    {
      "cell_type": "code",
      "metadata": {
        "id": "RL4QoeR2Ke1U",
        "colab_type": "code",
        "colab": {}
      },
      "source": [
        "import time\n",
        "\n",
        "def better_solution(sol):\n",
        "    n = len(sol) #都市の数\n",
        "    # print(sol)\n",
        "    #反転させる\n",
        "    for i in range(n):\n",
        "        for length in range(2, n):\n",
        "            #一番最後はいらないので削除\n",
        "            if i+length-1 > n-1:\n",
        "                break\n",
        "            path = sol[i:i+length] #reverseしたいpath\n",
        "            diff = -distance(C[sol[i-1]], C[sol[i]]) - distance(C[sol[i+length-1]], C[sol[(i+length)%n]])+distance(C[sol[i-1]], C[sol[i+length-1]])+ distance(C[sol[i]], C[sol[(i+length)%n]])\n",
        "            if diff < -0.0000001: #数値誤差の関係で0ではない\n",
        "                path.reverse()\n",
        "                bsol = sol[:i] + path + sol[i+length:]\n",
        "                return bsol\n",
        "    return None\n",
        "\n",
        "def local_search(init_sol):\n",
        "    sol = init_sol #現在の解を表す\n",
        "    #近傍を見て改善解があれば改善する\n",
        "    while True:\n",
        "        bsol = better_solution(sol) #改善する\n",
        "        if bsol == None:\n",
        "            return sol\n",
        "        else:\n",
        "            sol = bsol\n",
        "\n",
        "    return None\n",
        "\n",
        "def tsp_solve(C,timelimit=500):\n",
        "    ''' TSPを解くためのプログラム\n",
        "    input: 都市集合C, 制限時間timelimit(秒)\n",
        "    output: 巡回路\n",
        "    '''\n",
        "\n",
        "    tour = [i for i in range(len(C))]\n",
        "    starttime=time.time()\n",
        "    while time.time() - starttime < timelimit:\n",
        "        tour = local_search(tour)\n",
        "    return tour\n",
        "\n",
        "tour=tsp_solve(C,3)"
      ],
      "execution_count": 6,
      "outputs": []
    },
    {
      "cell_type": "markdown",
      "metadata": {
        "id": "qANt4FPuKe1a",
        "colab_type": "text"
      },
      "source": [
        "## 4. 解tourの描画と実行可能性"
      ]
    },
    {
      "cell_type": "code",
      "metadata": {
        "id": "hIYHco-1Ke1b",
        "colab_type": "code",
        "colab": {
          "base_uri": "https://localhost:8080/",
          "height": 717
        },
        "outputId": "c1dd2cee-893b-495f-f995-7ef44df02dc1"
      },
      "source": [
        "Gt=graph_of_tour(tour)\n",
        "print('size of tour:', Gt.size(weight='weight'))\n",
        "print('feasibility:',nx.is_k_edge_connected(Gt,2))\n",
        "\n",
        "import matplotlib.pyplot as plt\n",
        "plt.figure(figsize=(12,12))\n",
        "nx.draw_networkx(Gt,pos=C,node_color=\"yellow\",node_size=200,with_labels=True,edge_color=\"k\",width=1,axis=\"equal\")\n",
        "plt.show() "
      ],
      "execution_count": 7,
      "outputs": [
        {
          "output_type": "stream",
          "text": [
            "size of tour: 26916.40813636071\n",
            "feasibility: True\n"
          ],
          "name": "stdout"
        },
        {
          "output_type": "display_data",
          "data": {
            "image/png": "[encoded data removed]",
            "text/plain": [
              "<Figure size 864x864 with 1 Axes>"
            ]
          },
          "metadata": {
            "tags": []
          }
        }
      ]
    },
    {
      "cell_type": "code",
      "metadata": {
        "id": "d1pwR7o8Ke1f",
        "colab_type": "code",
        "colab": {}
      },
      "source": [
        ""
      ],
      "execution_count": 5,
      "outputs": []
    }
  ]
}